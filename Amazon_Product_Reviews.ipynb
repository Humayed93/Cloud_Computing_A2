{
 "cells": [
  {
   "cell_type": "code",
   "execution_count": null,
   "id": "ee5b272a",
   "metadata": {},
   "outputs": [],
   "source": [
    "import requests\n",
    "import pandas as pd\n",
    "from bs4 import BeautifulSoup\n"
   ]
  },
  {
   "cell_type": "code",
   "execution_count": null,
   "id": "545099b6",
   "metadata": {},
   "outputs": [],
   "source": [
    "headers = {\n",
    "    \"authority\": \"www.amazon.com\",\n",
    "    \"pragma\": \"no-cache\",\n",
    "    \"cache-control\": \"no-cache\",\n",
    "    \"dnt\": \"1\",\n",
    "    \"upgrade-insecure-requests\": \"1\",\n",
    "    \"user-agent\": \"Mozilla/5.0 (X11; CrOS x86_64 8172.45.0) AppleWebKit/537.36 (KHTML, like Gecko) Chrome/51.0.2704.64 Safari/537.36\",\n",
    "    \"accept\": \"text/html,application/xhtml+xml,application/xml;q=0.9,image/webp,image/apng,*/*;q=0.8,application/signed-exchange;v=b3;q=0.9\",\n",
    "    \"sec-fetch-site\": \"none\",\n",
    "    \"sec-fetch-mode\": \"navigate\",\n",
    "    \"sec-fetch-dest\": \"document\",\n",
    "    \"accept-language\": \"en-GB,en-US;q=0.9,en;q=0.8\",\n",
    "}\n",
    "\n",
    "URL = \"https://www.amazon.com/Dyson-Detect-Cordless-Vacuum-Yellow/product-reviews/B0979R48CX/ref=cm_cr_dp_d_show_all_btm?ie=UTF8&reviewerType=all_reviews&pageNumber=\"\n",
    "\n",
    "# URLs = []\n",
    "\n",
    "# Get reviews for the first 5 pages\n",
    "# for i in range(1,6):\n",
    "#    URLs.append(URL + str(i))\n",
    "\n"
   ]
  },
  {
   "cell_type": "code",
   "execution_count": null,
   "id": "d6ad8e8b",
   "metadata": {},
   "outputs": [],
   "source": [
    "def get_page_html(page_url: str) -> str:\n",
    "    resp = requests.get(page_url, headers=headers)\n",
    "    return resp.text"
   ]
  },
  {
   "cell_type": "code",
   "execution_count": null,
   "id": "25b761eb",
   "metadata": {},
   "outputs": [],
   "source": [
    "def get_reviews_from_html(page_html: str) -> BeautifulSoup:\n",
    "    soup = BeautifulSoup(page_html, \"lxml\")\n",
    "    reviews = soup.find_all(\"div\", {\"class\": \"a-section celwidget\"})\n",
    "    return reviews"
   ]
  },
  {
   "cell_type": "code",
   "execution_count": null,
   "id": "daa3cfe1",
   "metadata": {},
   "outputs": [],
   "source": [
    "def get_review_date(soup_object: BeautifulSoup):\n",
    "    date_string = soup_object.find(\"span\", {\"class\": \"review-date\"}).get_text()\n",
    "    return date_string"
   ]
  },
  {
   "cell_type": "code",
   "execution_count": null,
   "id": "dffa78d9",
   "metadata": {},
   "outputs": [],
   "source": [
    "def get_review_text(soup_object: BeautifulSoup) -> str:\n",
    "    review_text = soup_object.find(\n",
    "        \"span\", {\"class\": \"a-size-base review-text review-text-content\"}\n",
    "    ).get_text()\n",
    "    return review_text.strip()"
   ]
  },
  {
   "cell_type": "code",
   "execution_count": null,
   "id": "a74bbb72",
   "metadata": {},
   "outputs": [],
   "source": [
    "def get_review_header(soup_object: BeautifulSoup) -> str:\n",
    "    review_header = soup_object.find(\n",
    "        \"a\",\n",
    "        {\n",
    "            \"class\": \"a-size-base a-link-normal review-title a-color-base review-title-content a-text-bold\"\n",
    "        },\n",
    "    ).get_text()\n",
    "    return review_header.strip()"
   ]
  },
  {
   "cell_type": "code",
   "execution_count": null,
   "id": "25ce7c3e",
   "metadata": {},
   "outputs": [],
   "source": [
    "def get_number_stars(soup_object: BeautifulSoup) -> str:\n",
    "    stars = soup_object.find(\"span\", {\"class\": \"a-icon-alt\"}).get_text()\n",
    "    return stars.strip()"
   ]
  },
  {
   "cell_type": "code",
   "execution_count": null,
   "id": "cc5ca9f9",
   "metadata": {},
   "outputs": [],
   "source": [
    "def get_all_review(single_review: BeautifulSoup) -> dict:\n",
    "    return {\n",
    "        \"review_text\": get_review_text(single_review),\n",
    "        \"review_date\": get_review_date(single_review),\n",
    "        \"review_title\": get_review_header(single_review),\n",
    "        \"review_stars\": get_number_stars(single_review)\n",
    "    }"
   ]
  },
  {
   "cell_type": "code",
   "execution_count": null,
   "id": "f0ec7025",
   "metadata": {},
   "outputs": [],
   "source": [
    "if __name__ == '__main__':\n",
    "\n",
    "    all_results = []\n",
    "\n",
    "    #for u in URLs:\n",
    "    html = get_page_html(URL)\n",
    "    reviews = get_reviews_from_html(html)\n",
    "    for rev in reviews:\n",
    "        data = get_all_review(rev)\n",
    "        all_results.append(data)\n",
    "\n",
    "    reviews_df = pd.DataFrame.from_records(all_results)\n",
    "    reviews_df.to_csv('Reviews')"
   ]
  },
  {
   "cell_type": "code",
   "execution_count": null,
   "id": "9296b96f",
   "metadata": {},
   "outputs": [],
   "source": [
    "print(reviews_df)"
   ]
  }
 ],
 "metadata": {
  "kernelspec": {
   "display_name": "Python 3 (ipykernel)",
   "language": "python",
   "name": "python3"
  },
  "language_info": {
   "codemirror_mode": {
    "name": "ipython",
    "version": 3
   },
   "file_extension": ".py",
   "mimetype": "text/x-python",
   "name": "python",
   "nbconvert_exporter": "python",
   "pygments_lexer": "ipython3",
   "version": "3.11.5"
  }
 },
 "nbformat": 4,
 "nbformat_minor": 5
}
